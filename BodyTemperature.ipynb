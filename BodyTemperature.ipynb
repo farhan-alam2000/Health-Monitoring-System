{
 "cells": [
  {
   "cell_type": "code",
   "execution_count": 50,
   "id": "5c7d72e4",
   "metadata": {},
   "outputs": [],
   "source": [
    "#improting required libraries\n",
    "import pandas as pd\n",
    "from matplotlib import pyplot as plt\n",
    "%matplotlib inline"
   ]
  },
  {
   "cell_type": "code",
   "execution_count": 61,
   "id": "b5739227",
   "metadata": {},
   "outputs": [
    {
     "data": {
      "text/html": [
       "<div>\n",
       "<style scoped>\n",
       "    .dataframe tbody tr th:only-of-type {\n",
       "        vertical-align: middle;\n",
       "    }\n",
       "\n",
       "    .dataframe tbody tr th {\n",
       "        vertical-align: top;\n",
       "    }\n",
       "\n",
       "    .dataframe thead th {\n",
       "        text-align: right;\n",
       "    }\n",
       "</style>\n",
       "<table border=\"1\" class=\"dataframe\">\n",
       "  <thead>\n",
       "    <tr style=\"text-align: right;\">\n",
       "      <th></th>\n",
       "      <th>Gender</th>\n",
       "      <th>Body_Temp</th>\n",
       "      <th>Fever</th>\n",
       "    </tr>\n",
       "  </thead>\n",
       "  <tbody>\n",
       "    <tr>\n",
       "      <th>0</th>\n",
       "      <td>Male</td>\n",
       "      <td>96.3</td>\n",
       "      <td>0</td>\n",
       "    </tr>\n",
       "    <tr>\n",
       "      <th>1</th>\n",
       "      <td>Male</td>\n",
       "      <td>96.7</td>\n",
       "      <td>0</td>\n",
       "    </tr>\n",
       "    <tr>\n",
       "      <th>2</th>\n",
       "      <td>Male</td>\n",
       "      <td>96.9</td>\n",
       "      <td>0</td>\n",
       "    </tr>\n",
       "    <tr>\n",
       "      <th>3</th>\n",
       "      <td>Male</td>\n",
       "      <td>97.0</td>\n",
       "      <td>0</td>\n",
       "    </tr>\n",
       "    <tr>\n",
       "      <th>4</th>\n",
       "      <td>Male</td>\n",
       "      <td>97.1</td>\n",
       "      <td>0</td>\n",
       "    </tr>\n",
       "  </tbody>\n",
       "</table>\n",
       "</div>"
      ],
      "text/plain": [
       "  Gender  Body_Temp  Fever\n",
       "0   Male       96.3      0\n",
       "1   Male       96.7      0\n",
       "2   Male       96.9      0\n",
       "3   Male       97.0      0\n",
       "4   Male       97.1      0"
      ]
     },
     "execution_count": 61,
     "metadata": {},
     "output_type": "execute_result"
    }
   ],
   "source": [
    "#reading the dataset\n",
    "df = pd.read_csv(\"Body_Temperature.csv\")\n",
    "df.head()"
   ]
  },
  {
   "cell_type": "code",
   "execution_count": 52,
   "id": "b2d48ba8",
   "metadata": {},
   "outputs": [
    {
     "data": {
      "image/png": "[encoded data removed]",
      "text/plain": [
       "<Figure size 432x288 with 1 Axes>"
      ]
     },
     "metadata": {
      "needs_background": "light"
     },
     "output_type": "display_data"
    }
   ],
   "source": [
    "#plotting to have a better understanding and decide the ML model to apply on dataset\n",
    "plt.scatter(df.Body_Temp,df.Fever,marker='+',color='red')\n",
    "plt.xlabel('Body Temperature (in F)')\n",
    "plt.ylabel('Fever (Y/N)')\n",
    "plt.show()"
   ]
  },
  {
   "cell_type": "markdown",
   "id": "eea71edf",
   "metadata": {},
   "source": [
    "Logistic Regression can be used for binary classification"
   ]
  },
  {
   "cell_type": "code",
   "execution_count": 53,
   "id": "c1928184",
   "metadata": {},
   "outputs": [],
   "source": [
    "from sklearn.model_selection import train_test_split"
   ]
  },
  {
   "cell_type": "code",
   "execution_count": 54,
   "id": "2d87e597",
   "metadata": {},
   "outputs": [],
   "source": [
    "#splitting dataset in training and testing\n",
    "X_train, X_test, y_train, y_test = train_test_split(df[['Body_Temp']],df.Fever,train_size=0.8)"
   ]
  },
  {
   "cell_type": "code",
   "execution_count": 55,
   "id": "eea0a360",
   "metadata": {},
   "outputs": [],
   "source": [
    "from sklearn.linear_model import LogisticRegression\n",
    "model = LogisticRegression()"
   ]
  },
  {
   "cell_type": "code",
   "execution_count": 56,
   "id": "6481a12f",
   "metadata": {},
   "outputs": [
    {
     "data": {
      "text/plain": [
       "LogisticRegression()"
      ]
     },
     "execution_count": 56,
     "metadata": {},
     "output_type": "execute_result"
    }
   ],
   "source": [
    "#training the model\n",
    "model.fit(X_train, y_train)"
   ]
  },
  {
   "cell_type": "code",
   "execution_count": 57,
   "id": "9628ce6a",
   "metadata": {},
   "outputs": [],
   "source": [
    "#testing the model\n",
    "y_predicted = model.predict(X_test)"
   ]
  },
  {
   "cell_type": "code",
   "execution_count": 58,
   "id": "ed23bc10",
   "metadata": {},
   "outputs": [
    {
     "data": {
      "text/plain": [
       "array([[9.99620894e-01, 3.79106100e-04],\n",
       "       [4.18796490e-01, 5.81203510e-01],\n",
       "       [2.48029872e-01, 7.51970128e-01],\n",
       "       [8.82526780e-01, 1.17473220e-01],\n",
       "       [9.98193313e-01, 1.80668697e-03],\n",
       "       [5.15744767e-01, 4.84255233e-01],\n",
       "       [9.87393715e-01, 1.26062851e-02],\n",
       "       [8.82526780e-01, 1.17473220e-01],\n",
       "       [9.26840182e-02, 9.07315982e-01],\n",
       "       [9.94189752e-01, 5.81024768e-03],\n",
       "       [1.82445931e-01, 8.17554069e-01],\n",
       "       [6.11522302e-01, 3.88477698e-01],\n",
       "       [6.11522302e-01, 3.88477698e-01],\n",
       "       [9.72865552e-01, 2.71344484e-02],\n",
       "       [6.46452956e-02, 9.35354704e-01],\n",
       "       [1.82445931e-01, 8.17554069e-01],\n",
       "       [6.11522302e-01, 3.88477698e-01],\n",
       "       [9.70281219e-03, 9.90297188e-01],\n",
       "       [9.60407807e-01, 3.95921929e-02],\n",
       "       [9.42568208e-01, 5.74317916e-02],\n",
       "       [9.72865552e-01, 2.71344484e-02],\n",
       "       [9.94189752e-01, 5.81024768e-03],\n",
       "       [9.72865552e-01, 2.71344484e-02],\n",
       "       [6.11522302e-01, 3.88477698e-01],\n",
       "       [9.42568208e-01, 5.74317916e-02],\n",
       "       [6.11522302e-01, 3.88477698e-01]])"
      ]
     },
     "execution_count": 58,
     "metadata": {},
     "output_type": "execute_result"
    }
   ],
   "source": [
    "model.predict_proba(X_test)"
   ]
  },
  {
   "cell_type": "code",
   "execution_count": 59,
   "id": "81d9f3a9",
   "metadata": {},
   "outputs": [
    {
     "data": {
      "text/plain": [
       "0.9615384615384616"
      ]
     },
     "execution_count": 59,
     "metadata": {},
     "output_type": "execute_result"
    }
   ],
   "source": [
    "#measuring the accuracy of the model\n",
    "model.score(X_test,y_test)"
   ]
  },
  {
   "cell_type": "code",
   "execution_count": null,
   "id": "dbd5403b",
   "metadata": {},
   "outputs": [],
   "source": []
  }
 ],
 "metadata": {
  "kernelspec": {
   "display_name": "Python 3 (ipykernel)",
   "language": "python",
   "name": "python3"
  },
  "language_info": {
   "codemirror_mode": {
    "name": "ipython",
    "version": 3
   },
   "file_extension": ".py",
   "mimetype": "text/x-python",
   "name": "python",
   "nbconvert_exporter": "python",
   "pygments_lexer": "ipython3",
   "version": "3.9.7"
  }
 },
 "nbformat": 4,
 "nbformat_minor": 5
}
