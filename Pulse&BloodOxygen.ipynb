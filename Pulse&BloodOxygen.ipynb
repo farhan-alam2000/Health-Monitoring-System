{
 "cells": [
  {
   "cell_type": "code",
   "execution_count": 17,
   "id": "03d96cb6",
   "metadata": {},
   "outputs": [],
   "source": [
    "#improting required libraries\n",
    "import pandas as pd\n",
    "from matplotlib import pyplot as plt\n",
    "%matplotlib inline"
   ]
  },
  {
   "cell_type": "code",
   "execution_count": 18,
   "id": "c16b5f7b",
   "metadata": {},
   "outputs": [
    {
     "data": {
      "text/html": [
       "<div>\n",
       "<style scoped>\n",
       "    .dataframe tbody tr th:only-of-type {\n",
       "        vertical-align: middle;\n",
       "    }\n",
       "\n",
       "    .dataframe tbody tr th {\n",
       "        vertical-align: top;\n",
       "    }\n",
       "\n",
       "    .dataframe thead th {\n",
       "        text-align: right;\n",
       "    }\n",
       "</style>\n",
       "<table border=\"1\" class=\"dataframe\">\n",
       "  <thead>\n",
       "    <tr style=\"text-align: right;\">\n",
       "      <th></th>\n",
       "      <th>Gender</th>\n",
       "      <th>Heart_Rate</th>\n",
       "      <th>Blood_Oxygen</th>\n",
       "      <th>Medical_Aid_Required</th>\n",
       "    </tr>\n",
       "  </thead>\n",
       "  <tbody>\n",
       "    <tr>\n",
       "      <th>0</th>\n",
       "      <td>Male</td>\n",
       "      <td>71</td>\n",
       "      <td>98</td>\n",
       "      <td>0</td>\n",
       "    </tr>\n",
       "    <tr>\n",
       "      <th>1</th>\n",
       "      <td>Male</td>\n",
       "      <td>74</td>\n",
       "      <td>90</td>\n",
       "      <td>0</td>\n",
       "    </tr>\n",
       "    <tr>\n",
       "      <th>2</th>\n",
       "      <td>Male</td>\n",
       "      <td>103</td>\n",
       "      <td>99</td>\n",
       "      <td>1</td>\n",
       "    </tr>\n",
       "    <tr>\n",
       "      <th>3</th>\n",
       "      <td>Male</td>\n",
       "      <td>73</td>\n",
       "      <td>94</td>\n",
       "      <td>0</td>\n",
       "    </tr>\n",
       "    <tr>\n",
       "      <th>4</th>\n",
       "      <td>Male</td>\n",
       "      <td>75</td>\n",
       "      <td>90</td>\n",
       "      <td>0</td>\n",
       "    </tr>\n",
       "  </tbody>\n",
       "</table>\n",
       "</div>"
      ],
      "text/plain": [
       "  Gender  Heart_Rate  Blood_Oxygen  Medical_Aid_Required\n",
       "0   Male          71            98                     0\n",
       "1   Male          74            90                     0\n",
       "2   Male         103            99                     1\n",
       "3   Male          73            94                     0\n",
       "4   Male          75            90                     0"
      ]
     },
     "execution_count": 18,
     "metadata": {},
     "output_type": "execute_result"
    }
   ],
   "source": [
    "#reading the dataset\n",
    "df = pd.read_excel(\"Pulse_bloodOxygen.xlsx\")\n",
    "df.head()"
   ]
  },
  {
   "cell_type": "code",
   "execution_count": 25,
   "id": "1f64c597",
   "metadata": {},
   "outputs": [
    {
     "data": {
      "image/png": "[encoded data removed]",
      "text/plain": [
       "<Figure size 432x288 with 1 Axes>"
      ]
     },
     "metadata": {
      "needs_background": "light"
     },
     "output_type": "display_data"
    }
   ],
   "source": [
    "plt.scatter(df.Heart_Rate,df.Medical_Aid_Required,marker='+',color='red')\n",
    "plt.xlabel('Heart Rate')\n",
    "plt.ylabel('Medical Aid Required')\n",
    "plt.show()"
   ]
  },
  {
   "cell_type": "code",
   "execution_count": 30,
   "id": "ce696222",
   "metadata": {},
   "outputs": [
    {
     "data": {
      "image/png": "[encoded data removed]",
      "text/plain": [
       "<Figure size 432x288 with 1 Axes>"
      ]
     },
     "metadata": {
      "needs_background": "light"
     },
     "output_type": "display_data"
    }
   ],
   "source": [
    "plt.scatter(df.Blood_Oxygen,df.Medical_Aid_Required,marker='.',color='blue')\n",
    "plt.xlabel('Blood Oxygen')\n",
    "plt.ylabel('Medical Aid Required')\n",
    "plt.show()"
   ]
  },
  {
   "cell_type": "code",
   "execution_count": 29,
   "id": "1086c6aa",
   "metadata": {},
   "outputs": [],
   "source": [
    "feature_cols = ['Heart_Rate','Blood_Oxygen']\n",
    "X = df[feature_cols] # Features\n",
    "y = df.Medical_Aid_Required # Target variable"
   ]
  },
  {
   "cell_type": "code",
   "execution_count": 31,
   "id": "fb6282f4",
   "metadata": {},
   "outputs": [],
   "source": [
    "from sklearn.model_selection import train_test_split\n",
    "#splitting dataset in training and testing\n",
    "X_train, X_test, y_train, y_test = train_test_split(X,y,train_size=0.8)"
   ]
  },
  {
   "cell_type": "code",
   "execution_count": 32,
   "id": "85b1602f",
   "metadata": {},
   "outputs": [],
   "source": [
    "from sklearn.linear_model import LogisticRegression\n",
    "model = LogisticRegression()"
   ]
  },
  {
   "cell_type": "code",
   "execution_count": 33,
   "id": "444d02dd",
   "metadata": {},
   "outputs": [
    {
     "data": {
      "text/plain": [
       "LogisticRegression()"
      ]
     },
     "execution_count": 33,
     "metadata": {},
     "output_type": "execute_result"
    }
   ],
   "source": [
    "#training the model\n",
    "model.fit(X_train, y_train)"
   ]
  },
  {
   "cell_type": "code",
   "execution_count": 34,
   "id": "01f73cf3",
   "metadata": {},
   "outputs": [],
   "source": [
    "#testing the model\n",
    "y_predicted = model.predict(X_test)"
   ]
  },
  {
   "cell_type": "code",
   "execution_count": 35,
   "id": "90fd37c1",
   "metadata": {},
   "outputs": [
    {
     "data": {
      "text/plain": [
       "array([0, 0, 0, 0, 0, 1, 1, 0, 0, 0, 0, 1, 0, 1, 0, 1, 0, 0, 0, 0, 0, 1,\n",
       "       1, 1, 0, 0], dtype=int64)"
      ]
     },
     "execution_count": 35,
     "metadata": {},
     "output_type": "execute_result"
    }
   ],
   "source": [
    "y_predicted"
   ]
  },
  {
   "cell_type": "code",
   "execution_count": 36,
   "id": "9610a3cf",
   "metadata": {},
   "outputs": [
    {
     "data": {
      "text/plain": [
       "array([[0.96658495, 0.03341505],\n",
       "       [0.99105545, 0.00894455],\n",
       "       [0.99414182, 0.00585818],\n",
       "       [0.97885127, 0.02114873],\n",
       "       [0.68203713, 0.31796287],\n",
       "       [0.46596916, 0.53403084],\n",
       "       [0.46092255, 0.53907745],\n",
       "       [0.98407305, 0.01592695],\n",
       "       [0.99686442, 0.00313558],\n",
       "       [0.56125564, 0.43874436],\n",
       "       [0.98608966, 0.01391034],\n",
       "       [0.3896822 , 0.6103178 ],\n",
       "       [0.99616734, 0.00383266],\n",
       "       [0.10024551, 0.89975449],\n",
       "       [0.89149583, 0.10850417],\n",
       "       [0.36836837, 0.63163163],\n",
       "       [0.98833159, 0.01166841],\n",
       "       [0.98223879, 0.01776121],\n",
       "       [0.97588483, 0.02411517],\n",
       "       [0.92951614, 0.07048386],\n",
       "       [0.98667681, 0.01332319],\n",
       "       [0.32285824, 0.67714176],\n",
       "       [0.22957647, 0.77042353],\n",
       "       [0.24166806, 0.75833194],\n",
       "       [0.63141188, 0.36858812],\n",
       "       [0.97066099, 0.02933901]])"
      ]
     },
     "execution_count": 36,
     "metadata": {},
     "output_type": "execute_result"
    }
   ],
   "source": [
    "model.predict_proba(X_test)"
   ]
  },
  {
   "cell_type": "code",
   "execution_count": 37,
   "id": "d9a0d375",
   "metadata": {},
   "outputs": [
    {
     "data": {
      "text/plain": [
       "0.9230769230769231"
      ]
     },
     "execution_count": 37,
     "metadata": {},
     "output_type": "execute_result"
    }
   ],
   "source": [
    "#measuring the accuracy of the model\n",
    "model.score(X_test,y_test)"
   ]
  },
  {
   "cell_type": "code",
   "execution_count": null,
   "id": "c04e9890",
   "metadata": {},
   "outputs": [],
   "source": []
  }
 ],
 "metadata": {
  "kernelspec": {
   "display_name": "Python 3 (ipykernel)",
   "language": "python",
   "name": "python3"
  },
  "language_info": {
   "codemirror_mode": {
    "name": "ipython",
    "version": 3
   },
   "file_extension": ".py",
   "mimetype": "text/x-python",
   "name": "python",
   "nbconvert_exporter": "python",
   "pygments_lexer": "ipython3",
   "version": "3.9.7"
  }
 },
 "nbformat": 4,
 "nbformat_minor": 5
}
